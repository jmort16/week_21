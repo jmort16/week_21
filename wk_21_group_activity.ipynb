{
 "cells": [
  {
   "cell_type": "code",
   "execution_count": null,
   "id": "69ca73dd",
   "metadata": {},
   "outputs": [],
   "source": [
    "# Initial Setup"
   ]
  },
  {
   "cell_type": "markdown",
   "id": "2e2555a0",
   "metadata": {},
   "source": [
    "##### 1.  Make sure you can get the API from class to work in Azure. Take a screenshot of it working and add the image to a jupyter notebook.\n"
   ]
  },
  {
   "cell_type": "code",
   "execution_count": null,
   "id": "8871436e",
   "metadata": {},
   "outputs": [],
   "source": []
  },
  {
   "cell_type": "markdown",
   "id": "19a2211c",
   "metadata": {},
   "source": [
    "##### 2. Loop through the API data in python using the /gdp/<year> endpoint for your API. What does it look like? Is there a way to alter the html page to simplify what you see?"
   ]
  },
  {
   "cell_type": "code",
   "execution_count": null,
   "id": "ef9899fe",
   "metadata": {},
   "outputs": [],
   "source": []
  }
 ],
 "metadata": {
  "kernelspec": {
   "display_name": "Python 3 (ipykernel)",
   "language": "python",
   "name": "python3"
  },
  "language_info": {
   "codemirror_mode": {
    "name": "ipython",
    "version": 3
   },
   "file_extension": ".py",
   "mimetype": "text/x-python",
   "name": "python",
   "nbconvert_exporter": "python",
   "pygments_lexer": "ipython3",
   "version": "3.9.7"
  }
 },
 "nbformat": 4,
 "nbformat_minor": 5
}
