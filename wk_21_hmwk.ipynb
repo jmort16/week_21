{
 "cells": [
  {
   "cell_type": "code",
   "execution_count": 1,
   "id": "5e8a05ef",
   "metadata": {},
   "outputs": [],
   "source": [
    "# Initial Setup"
   ]
  },
  {
   "cell_type": "markdown",
   "id": "31f62376",
   "metadata": {},
   "source": [
    "##### 1.\tCreate a basic API in Azure (as we did in class) that tells you how to access the different endpoints when you go to the home page. You should have the following endpoints:"
   ]
  },
  {
   "cell_type": "markdown",
   "id": "7f874d67",
   "metadata": {},
   "source": [
    "##### a.\tA /all endpoint that displays all of the nobel.json data"
   ]
  },
  {
   "cell_type": "markdown",
   "id": "4c22ce8d",
   "metadata": {},
   "source": [
    "##### b.\tA /<year> GET endpoint that allows for you to pass in any year and shows you the Nobel prizes from that year. No need to create an HTML page for this, but you can if you want."
   ]
  },
  {
   "cell_type": "markdown",
   "id": "ea001f2f",
   "metadata": {},
   "source": [
    "##### c.\tA /add POST endpoint that lets you add additional data"
   ]
  },
  {
   "cell_type": "markdown",
   "id": "7121a3d2",
   "metadata": {},
   "source": [
    "##### i.\tYou should use a basic HTML form, but you can also pass the data into the API url if you’re feeling ambitious. The latter may require use of a tool called Postman. First, make sure the data from the form is getting passed to python, and then work on appending it to the json file."
   ]
  },
  {
   "cell_type": "markdown",
   "id": "2d9490c4",
   "metadata": {},
   "source": [
    "##### ii.\tMake sure you see your updates when you go to /all"
   ]
  },
  {
   "cell_type": "code",
   "execution_count": null,
   "id": "13c7311a",
   "metadata": {},
   "outputs": [],
   "source": []
  },
  {
   "cell_type": "markdown",
   "id": "b32f9c53",
   "metadata": {},
   "source": [
    "##### 2.\tWhat kind of API did you build? What types of APIs are there? Why are APIs important?"
   ]
  },
  {
   "cell_type": "code",
   "execution_count": null,
   "id": "90717802",
   "metadata": {},
   "outputs": [],
   "source": []
  }
 ],
 "metadata": {
  "kernelspec": {
   "display_name": "Python 3 (ipykernel)",
   "language": "python",
   "name": "python3"
  },
  "language_info": {
   "codemirror_mode": {
    "name": "ipython",
    "version": 3
   },
   "file_extension": ".py",
   "mimetype": "text/x-python",
   "name": "python",
   "nbconvert_exporter": "python",
   "pygments_lexer": "ipython3",
   "version": "3.9.7"
  }
 },
 "nbformat": 4,
 "nbformat_minor": 5
}
